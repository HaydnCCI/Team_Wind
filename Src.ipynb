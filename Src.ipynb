{
 "cells": [
  {
   "cell_type": "code",
   "execution_count": 1,
   "metadata": {},
   "outputs": [],
   "source": [
    "import numpy as np\n",
    "import re\n",
    "import operator\n",
    "import matplotlib.pyplot as plt\n",
    "from matplotlib.pyplot import figure\n",
    "import itertools"
   ]
  },
  {
   "cell_type": "code",
   "execution_count": 2,
   "metadata": {},
   "outputs": [],
   "source": [
    "A_input_file = 'a_example.txt'\n",
    "B_input_file = 'b_lovely_landscapes.txt'\n",
    "C_input_file = 'c_memorable_moments.txt'\n",
    "D_input_file = 'd_pet_pictures.txt'\n",
    "E_input_file = 'e_shiny_selfies.txt'"
   ]
  },
  {
   "cell_type": "code",
   "execution_count": 30,
   "metadata": {},
   "outputs": [],
   "source": [
    "def read_file(input_file):\n",
    "    with open(input_file, 'r') as f:\n",
    "        i = 0\n",
    "        pic_dict = {}\n",
    "        for line in f:\n",
    "            pic_dict[i] = line.split()\n",
    "            i += 1\n",
    "    return pic_dict"
   ]
  },
  {
   "cell_type": "code",
   "execution_count": 184,
   "metadata": {},
   "outputs": [],
   "source": [
    "dict_A = read_file(A_input_file)\n",
    "dict_B = read_file(B_input_file)\n",
    "dict_C = read_file(C_input_file)\n",
    "dict_D = read_file(D_input_file)\n",
    "dict_E = read_file(E_input_file)"
   ]
  },
  {
   "cell_type": "code",
   "execution_count": 185,
   "metadata": {},
   "outputs": [
    {
     "data": {
      "text/plain": [
       "['tr5fv',\n",
       " 't99tm',\n",
       " 't5nnd',\n",
       " 'tj4f',\n",
       " 'twzgl',\n",
       " 't6zkl',\n",
       " 'tcz3g',\n",
       " 'tf5wv',\n",
       " 'tv1h01',\n",
       " 'tv7zt',\n",
       " 't5xl1',\n",
       " 'th8wv',\n",
       " 'tkp5g',\n",
       " 'tb5p6',\n",
       " 'tzdr4',\n",
       " 't111w',\n",
       " 'tc2j5',\n",
       " 't1c76',\n",
       " 'tsmcf',\n",
       " 't2hzq',\n",
       " 'tbj57']"
      ]
     },
     "execution_count": 185,
     "metadata": {},
     "output_type": "execute_result"
    }
   ],
   "source": [
    "dict_B[1][2:len(dict_B[1])]"
   ]
  },
  {
   "cell_type": "code",
   "execution_count": 136,
   "metadata": {},
   "outputs": [
    {
     "data": {
      "text/plain": [
       "['t4b1g',\n",
       " 'twpq5',\n",
       " 'txrsg',\n",
       " 'ttj8k',\n",
       " 'twc3z',\n",
       " 't2d6w',\n",
       " 'tpm2s',\n",
       " 'tj7h1',\n",
       " 'txsgc',\n",
       " 'tsl5q',\n",
       " 'ttts2',\n",
       " 'tqrqq',\n",
       " 't6tpl',\n",
       " 'tjtw1',\n",
       " 'twx1v',\n",
       " 'tz9wd',\n",
       " 'tm8ls',\n",
       " 't1vc6',\n",
       " 't84q5',\n",
       " 'tmb7b',\n",
       " 'tcsv']"
      ]
     },
     "execution_count": 136,
     "metadata": {},
     "output_type": "execute_result"
    }
   ],
   "source": [
    "dict_B[1+5][2:len(dict_B[1])]"
   ]
  },
  {
   "cell_type": "code",
   "execution_count": 311,
   "metadata": {},
   "outputs": [
    {
     "name": "stdout",
     "output_type": "stream",
     "text": [
      "[4008]\n"
     ]
    }
   ],
   "source": [
    "list_order  = []\n",
    "i = 1\n",
    "\n",
    "while i < len(dict_B)-1:\n",
    "    \n",
    "    for value in dict_B[6674+i][2:len(dict_B[6674+i])]:\n",
    "        if value in dict_B[6674][2:len(dict_B[6674])]:\n",
    "#             print(i,':',value)\n",
    "            list_order.append(i)\n",
    "            i = len(dict_B)-1\n",
    "            break\n",
    "    i+=1\n",
    "print(list_order)"
   ]
  },
  {
   "cell_type": "code",
   "execution_count": 305,
   "metadata": {},
   "outputs": [
    {
     "data": {
      "text/plain": [
       "['t7sgp',\n",
       " 't9dv8',\n",
       " 't2hzq',\n",
       " 'tgfmx',\n",
       " 'tpxhw',\n",
       " 'twtbn',\n",
       " 'tdjnw',\n",
       " 'tv1h01',\n",
       " 't3n9v',\n",
       " 'tmnsm',\n",
       " 'tz1pd',\n",
       " 'tm8dh',\n",
       " 't55lp',\n",
       " 'tp8cj',\n",
       " 'trj7d',\n",
       " 'twcpz',\n",
       " 'tk2z1',\n",
       " 'tv7zt',\n",
       " 'td6jh',\n",
       " 't9blj',\n",
       " 'tdhms']"
      ]
     },
     "execution_count": 305,
     "metadata": {},
     "output_type": "execute_result"
    }
   ],
   "source": [
    "dict_B[6674+1][2:len(dict_B[6674])]"
   ]
  },
  {
   "cell_type": "code",
   "execution_count": 347,
   "metadata": {},
   "outputs": [],
   "source": [
    "# # def recurrent_2(next_line):\n",
    "    \n",
    "# list_order = []\n",
    "# list_order.append(1)\n",
    "# list_tag = []\n",
    "# list_tag.append(1)\n",
    "\n",
    "# def recurrent(dict_B, start, it_num, output_list, counter, before):\n",
    "#     #Initialize\n",
    "#     if counter < it_num:\n",
    "#         i = 1\n",
    "#         while i < len(dict_B)-1:\n",
    "#             for value in dict_B[i][2:len(dict_B[i])]:\n",
    "#                 if start != i and before!=i:\n",
    "#                     if value in dict_B[start][2:len(dict_B[start])]: #Our current line for matching\n",
    "#             #           print(i,':',value)\n",
    "#                         list_order.append(i)\n",
    "#                         list_tag.append(value)\n",
    "#                         i = len(dict_B)-1\n",
    "#                         break\n",
    "#             i+=1\n",
    "#         start = list_order[-1]\n",
    "# #         if i <= 1:\n",
    "# #             before = 1\n",
    "# #         else:\n",
    "#         before = list_order[-2]\n",
    "#         counter += 1\n",
    "#         recurrent(dict_B, start, it_num, list_order, counter, before)\n",
    "    \n",
    "#     return list_order\n",
    "\n",
    "# it_num = 1000\n",
    "# list_order = recurrent(dict_B, 1, it_num, list_order, 0, 1)\n",
    "\n",
    "# for i in np.arange(len(list_order)):\n",
    "# #     print(list_order[i],':',list_tag[i])\n",
    "#     print(list_order[i])\n",
    "# # print(len(list_order))\n",
    "# # print(len(list_tag))\n",
    "# #14521, [1]\n",
    "# #55256, 13832\n"
   ]
  },
  {
   "cell_type": "code",
   "execution_count": null,
   "metadata": {},
   "outputs": [],
   "source": [
    "# def recurrent_2(next_line):\n",
    "    \n",
    "list_order = []\n",
    "list_order.append(1)\n",
    "list_tag = []\n",
    "list_tag.append(1)\n",
    "empty = []\n",
    "\n",
    "def recurrent(dict_B, start, it_num, output_list, counter, before):\n",
    "    #Initialize\n",
    "    if counter < it_num:\n",
    "        i = 1\n",
    "        while i < len(dict_B)-1:\n",
    "            for value in dict_B[i][2:len(dict_B[i])]:\n",
    "                if start != i and before!=i:\n",
    "                    if value in dict_B[start][2:len(dict_B[start])]: #Our current line for matching\n",
    "            #           print(i,':',value)\n",
    "                        if i not in list_order:\n",
    "                            list_order.append(i)\n",
    "                            list_tag.append(value)\n",
    "                            i = len(dict_B)-1\n",
    "                            break\n",
    "            i+=1\n",
    "        start = list_order[-1]\n",
    "#         if i <= 1:\n",
    "#             before = 1\n",
    "#         else:\n",
    "        before = list_order[-2]\n",
    "        counter += 1\n",
    "        recurrent(dict_B, start, it_num, list_order, counter, before)\n",
    "    return list_order\n",
    "\n",
    "it_num = 10000\n",
    "list_order = recurrent(dict_B, 1, it_num, list_order, 0, 1)\n",
    "# list_order[1:] = [x + 1 for x in list_order[1:]]\n",
    "list_order[:] = [x - 1 for x in list_order[:]]\n",
    "\n",
    "file = open(\"b_out.txt\",\"w\")\n",
    "file.write(str(len(list_order)))\n",
    "file.write('\\n')\n",
    "\n",
    "# for i in \n",
    "\n",
    "for i in np.arange(len(list_order)):\n",
    "    print(list_order[i],':',list_tag[i])\n",
    "#     print(list_order[i])\n",
    "    file.write(str(list_order[i]))\n",
    "    file.write('\\n')\n",
    "# print(len(list_order))\n",
    "# print(len(list_tag))\n",
    "#14521, [1]\n",
    "#55256, 13832\n",
    "file.close()"
   ]
  },
  {
   "cell_type": "code",
   "execution_count": 358,
   "metadata": {},
   "outputs": [],
   "source": [
    "# listing = []\n",
    "# for i in range(10):\n",
    "#     listing.append(i)\n",
    "# print(listing)\n",
    "# listing[:] = [x - 1 for x in listing]\n",
    "# print(listing)"
   ]
  },
  {
   "cell_type": "code",
   "execution_count": null,
   "metadata": {},
   "outputs": [],
   "source": [
    "# def recurrent_2(next_line):\n",
    "    \n",
    "list_order = []\n",
    "list_order.append(1)\n",
    "list_tag = []\n",
    "list_tag.append(1)\n",
    "empty = []\n",
    "\n",
    "def recurrent(dict_B, start, it_num, output_list, counter, before):\n",
    "    #Initialize\n",
    "    if counter < it_num:\n",
    "        i = 1\n",
    "        while i < len(dict_B)-1:\n",
    "            for value in dict_B[i][2:len(dict_B[i])]:\n",
    "                if start != i and before!=i:\n",
    "                    if value in dict_B[start][2:len(dict_B[start])]: #Our current line for matching\n",
    "            #           print(i,':',value)\n",
    "                        if i not in list_order:\n",
    "                            list_order.append(i)\n",
    "                            list_tag.append(value)\n",
    "                            i = len(dict_B)-1\n",
    "                            break\n",
    "            i+=1\n",
    "        start = list_order[-1]\n",
    "#         if i <= 1:\n",
    "#             before = 1\n",
    "#         else:\n",
    "        before = list_order[-2]\n",
    "        counter += 1\n",
    "        recurrent(dict_B, start, it_num, list_order, counter, before)\n",
    "    \n",
    "    return list_order\n",
    "\n",
    "it_num = 100\n",
    "list_order = recurrent(dict_B, 1, it_num, list_order, 0, 1)\n",
    "\n",
    "for i in np.arange(len(list_order)):\n",
    "#     print(list_order[i],':',list_tag[i])\n",
    "    print(list_order[i])\n",
    "# print(len(list_order))\n",
    "# print(len(list_tag))\n",
    "#14521, [1]\n",
    "#55256, 13832\n"
   ]
  },
  {
   "cell_type": "code",
   "execution_count": null,
   "metadata": {},
   "outputs": [],
   "source": [
    "'''  \n",
    "    for value in dict_B[1+i][2:len(dict_B[1+i])]:\n",
    "        if start != 1+i:\n",
    "            index = 0\n",
    "            if value in dict_B[1][2:len(dict_B[1])]:\n",
    "                print(i,':',value)\n",
    "                list_order.append(i)\n",
    "                list_tag.append(dict_B[start][2:len(dict_B[1])][index])\n",
    "                i = len(dict_B)\n",
    "                break\n",
    "    index += 1\n",
    "    i+=1\n",
    "''' "
   ]
  },
  {
   "cell_type": "code",
   "execution_count": 244,
   "metadata": {},
   "outputs": [
    {
     "name": "stdout",
     "output_type": "stream",
     "text": [
      "[6673, 6673, 6673, 13707, 13707, 13707, 14518, 14518, 14518, 18142, 18142, 18142, 74266, 74266, 74266, 78133, 78133, 78133]\n"
     ]
    }
   ],
   "source": [
    "list_order = []; i = 1; start = 1; flag = 0\n",
    "\n",
    "while (i < len(dict_B)-1):\n",
    "            dict_B[start][2:len(dict_B[1])]\n",
    "            for value in dict_B[1+i][2:len(dict_B[1])]:\n",
    "        #         print(value)\n",
    "                if value in dict_B[start][2:len(dict_B[1])]:\n",
    "        #            print(start+i-1, 'value', value)\n",
    "                    list_order.append(i-1)\n",
    "                    list_tag.append(dict_B[start][2:len(dict_B[1])][index])\n",
    "#                     i = len(dict_B)\n",
    "#                     break\n",
    "\n",
    "            i += 1 \n",
    "print(list_order)"
   ]
  },
  {
   "cell_type": "code",
   "execution_count": 260,
   "metadata": {},
   "outputs": [
    {
     "data": {
      "text/plain": [
       "80001"
      ]
     },
     "execution_count": 260,
     "metadata": {},
     "output_type": "execute_result"
    }
   ],
   "source": [
    "len(dict_B)"
   ]
  },
  {
   "cell_type": "code",
   "execution_count": 271,
   "metadata": {},
   "outputs": [
    {
     "name": "stdout",
     "output_type": "stream",
     "text": [
      "tjj0r\n",
      "tk3r\n",
      "t5pgg\n",
      "tf36x\n",
      "tvwcg\n",
      "tn4hp\n",
      "t0r1w\n",
      "t62gs\n",
      "t4pp6\n",
      "tlql4\n",
      "t982j\n",
      "tcdv8\n",
      "tl3l6\n",
      "tbb6j\n",
      "t3rgg\n"
     ]
    }
   ],
   "source": [
    "for value in dict_B[3][2:len(dict_B[3])]:\n",
    "    print(value)\n",
    "        "
   ]
  },
  {
   "cell_type": "code",
   "execution_count": 256,
   "metadata": {},
   "outputs": [
    {
     "name": "stdout",
     "output_type": "stream",
     "text": [
      "6674 value t2hzq\n",
      "13708 value tj4f\n",
      "14519 value tr5fv\n",
      "18143 value t5nnd\n",
      "74267 value t111w\n",
      "78134 value tbj57\n",
      "[6673, 13707, 14518, 18142, 74266, 78133]\n"
     ]
    }
   ],
   "source": [
    "list_order = []; i = 1; start = 1\n",
    "\n",
    "while (i < len(dict_B)-1):\n",
    "    dict_B[start][2:len(dict_B[1])]\n",
    "    for value in dict_B[i+1][2:len(dict_B[i+1])]:\n",
    "        if value in dict_B[1][2:len(dict_B[1])]:\n",
    "            print(start+i-1, 'value', value)\n",
    "            list_order.append(i-1)\n",
    "#             i = len(dict_B)\n",
    "            break\n",
    "    i+=1 \n",
    "print(list_order)\n",
    "\n"
   ]
  },
  {
   "cell_type": "code",
   "execution_count": 240,
   "metadata": {},
   "outputs": [
    {
     "name": "stdout",
     "output_type": "stream",
     "text": [
      "['t4b1g', 'twpq5', 'txrsg', 'ttj8k', 'twc3z', 't2d6w', 'tpm2s', 'tj7h1', 'txsgc', 'tsl5q', 'ttts2', 'tqrqq', 't6tpl', 'tjtw1', 'twx1v', 'tz9wd', 'tm8ls', 't1vc6', 't84q5', 'tmb7b', 'tcsv']\n",
      "\n",
      "['tr5fv', 't99tm', 't5nnd', 'tj4f', 'twzgl', 't6zkl', 'tcz3g', 'tf5wv', 'tv1h01', 'tv7zt', 't5xl1', 'th8wv', 'tkp5g', 'tb5p6', 'tzdr4', 't111w', 'tc2j5', 't1c76', 'tsmcf', 't2hzq', 'tbj57']\n"
     ]
    }
   ],
   "source": [
    "print(dict_B[5+1][2:len(dict_B[5+1])])\n",
    "print()\n",
    "print(dict_B[1][2:len(dict_B[1])])"
   ]
  },
  {
   "cell_type": "code",
   "execution_count": 239,
   "metadata": {},
   "outputs": [
    {
     "data": {
      "text/plain": [
       "dict_values([['4'], ['H', '3', 'cat', 'beach', 'sun'], ['V', '2', 'selfie', 'smile'], ['V', '2', 'garden', 'selfie'], ['H', '2', 'garden', 'cat']])"
      ]
     },
     "execution_count": 239,
     "metadata": {},
     "output_type": "execute_result"
    }
   ],
   "source": [
    "dict_A.values()"
   ]
  },
  {
   "cell_type": "code",
   "execution_count": 237,
   "metadata": {},
   "outputs": [],
   "source": [
    "# for i in np.arange(len(dict_B)):\n",
    "#     for j in np.arange(len(dict_B[i])):\n",
    "#         print(dict_B[i][10])\n",
    "        \n",
    "num_h_A = sum(value == 'H' for value in dict_A.values())"
   ]
  },
  {
   "cell_type": "code",
   "execution_count": 238,
   "metadata": {},
   "outputs": [
    {
     "data": {
      "text/plain": [
       "0"
      ]
     },
     "execution_count": 238,
     "metadata": {},
     "output_type": "execute_result"
    }
   ],
   "source": [
    "num_h_A"
   ]
  },
  {
   "cell_type": "code",
   "execution_count": null,
   "metadata": {},
   "outputs": [],
   "source": []
  }
 ],
 "metadata": {
  "kernelspec": {
   "display_name": "Python 3",
   "language": "python",
   "name": "python3"
  },
  "language_info": {
   "codemirror_mode": {
    "name": "ipython",
    "version": 3
   },
   "file_extension": ".py",
   "mimetype": "text/x-python",
   "name": "python",
   "nbconvert_exporter": "python",
   "pygments_lexer": "ipython3",
   "version": "3.6.7"
  }
 },
 "nbformat": 4,
 "nbformat_minor": 2
}
